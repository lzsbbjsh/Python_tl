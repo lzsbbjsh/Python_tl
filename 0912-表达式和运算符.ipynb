{
 "cells": [
  {
   "cell_type": "markdown",
   "metadata": {},
   "source": [
    "表达式和运算符\n",
    "表达式，就是由变量、运算符、数字、数字分组符号（括号）等以能求得数值的有意义排列方法所得的组合。\n",
    "运算算的分类\n",
    "1.算术运算\n",
    "2.比较运算/关系运算\n",
    "3.赋值运算\n",
    "4.逻辑运算\n",
    "5.位运算\n",
    "6.成员运算\n",
    "7.身份运算\n",
    "算数运算\n",
    "\n",
    "+  加法运算\n",
    "-  减法运算\n",
    "*  乘法运算\n",
    "/  除法运算\n",
    "%  取余运算\n",
    "// 取商运算/地板除\n",
    "** 幂运算\n",
    "注意：python中没有自增自减的 ++ 或者-- 运算\n",
    "比较运算\n",
    "\n",
    "==  等于运算\n",
    "!=  不等于运算\n",
    ">   大于运算\n",
    "<   小于运算\n",
    ">=  大于等于运算\n",
    "<=  小于等于运算\n",
    "注意：在python中没有 === 和 ！== 运算，只要类型不同就是不等于\n",
    "赋值运算\n",
    "\n",
    "=  普通赋值\n",
    "+= 加法赋值\n",
    "-= 减法赋值\n",
    "*= 乘法赋值\n",
    "/= 除法赋值\n",
    "%= 取余赋值\n",
    "//= 取商赋值\n",
    "**= 幂赋值\n",
    "注意：a *= b 转换之后的表达式为 a = a * b 无论何种赋值运算都符合这个格式\n",
    "逻辑运算\n",
    "\n",
    "逻辑运算是布尔值之间的运算。\n",
    "and 与运算\n",
    "与运算特征：有假则假\n",
    "\n",
    "and 两边条件有一个为假,整个条件语句的条件就不成立\n",
    "or 或运算\n",
    "或运算特征：有真则真\n",
    "\n",
    "or 运算符两边条件任意一个为真,则该条件语句条件就为真\n",
    "not 非运算\n",
    "非运算特征：真变假，假变真\n",
    "\n",
    "条件取反\n",
    "位运算\n",
    "\n",
    "位运算就是在二进制基础上进行的逻辑运算，将0视为False，将1 视为True进行的运算\n",
    "& 按位与运算：\n",
    "按位与运算就是将数据转化为2进制数据然后进行每个位上的逻辑与运算\n",
    "\n",
    "变量 = 值1  \n",
    "&\n",
    "  值2\n",
    "| 按位或运算\n",
    "按位或运算就是将数据转化为2进制数据然后进行每个位上的逻辑或运算\n",
    "\n",
    "变量 = 值1 | 值2\n",
    "～按位非运算\n",
    "按位非运算就是将数据转化为2进制数据然后进行每个位上的逻辑非运算\n",
    "\n",
    "变量 = ~值\n",
    "\n",
    "注意：按位非运算之后计算机会进行反码和补码的相关操作之后进行数据存储。\n",
    "^按位抑或运算\n",
    "按位抑或运算就是将数据转化为2进制数据然后进行每个位上的逻辑抑或运算\n",
    "\n",
    "变量 = 值1 ^ 值2\n",
    "左移运算\n",
    "\n",
    "将数据转化为二进制之后，将二进制数据的所有数据向左移动指定的位数\n",
    "\n",
    "变量 = 值 \n",
    "<<  移动位数\n",
    "\n",
    "特征：左移N位相当于乘以2的N次方，此方法速度远高于乘法\n",
    "右移运算\n",
    "\n",
    "将数据转化为二进制之后，将二进制数据的所有数据向右移动指定的位数，如果数据移除右侧边界，则会被删除，实际上相当于采用了地板除！\n",
    "\n",
    "变量 = 值 \n",
    ">>  移动位数\n",
    "\n",
    "特征：右移N位相当于除以2的N次方，舍弃小数部分。此方法速度远高于除法\n",
    "成员运算\n",
    "\n",
    "in 检测一个值在指定的序列类型里面\n",
    "格式：  值 in 可迭代序列\n",
    "not in 检测一个值是否不再指定的序列里面\n",
    "格式：  值 not in 可迭代序列\n",
    "身份运算\n",
    "\n",
    "is 检测值1是不是和值2在内存中是否是同一个值，类似id()功能\n",
    "格式:   数据1 is 数据2\n",
    "is not 检测值1是不是和值2在内存中是否不是同一个值，类似id()功能\n",
    "格式:   数据1 is not 数据2\n",
    "运算优先级问题\n",
    "**  指数 (最高优先级)\n",
    "~ + -   按位翻转, 一元加号和减号 (最后两个的方法名为 +@ 和 -@)\n",
    "* / % //    乘，除，取模和取整除\n",
    "+ - 加法减法\n",
    ">> <<   右移，左移运算符\n",
    "&   位 'AND'\n",
    "^ | 位运算符\n",
    "<= < > >=   比较运算符\n",
    "== !=    等于运算符\n",
    "= %= /= //= -= += *= **=    赋值运算符\n",
    "is is not   身份运算符\n",
    "in not in   成员运算符\n",
    "not or and  逻辑运算符\n",
    "注意：我们并不推荐死记硬背优先级，在实际使用中最好使用()解决优先级问题\n",
    "检测数据归属\n",
    "type() 测试时可以使用，开发尽量避免使用\n",
    "格式：type(变量)\n",
    "isinstance() 检测一个数据是否由指定的类型创建\n",
    "格式：isinstance(变量，检测的类型)"
   ]
  },
  {
   "cell_type": "code",
   "execution_count": 2,
   "metadata": {},
   "outputs": [
    {
     "name": "stdout",
     "output_type": "stream",
     "text": [
      "1\n",
      "2\n"
     ]
    }
   ],
   "source": [
    "###Python 没有自增\n",
    "a = 9 % 4\n",
    "print(a)\n",
    "b = 9 // 4\n",
    "print(b)"
   ]
  },
  {
   "cell_type": "code",
   "execution_count": 4,
   "metadata": {},
   "outputs": [
    {
     "name": "stdout",
     "output_type": "stream",
     "text": [
      "False\n"
     ]
    }
   ],
   "source": [
    "##比较运算符\n",
    "a = 3 ** 4\n",
    "b = a ==88\n",
    "##执行顺序是1.a==88 2.把结果放入b\n",
    "print(b)\n",
    "\n",
    "## ==是等于 ！=是不等于 >大于 <小鱼 >=大于等于 <=小于等于"
   ]
  },
  {
   "cell_type": "markdown",
   "metadata": {},
   "source": [
    "##赋值运算符"
   ]
  },
  {
   "cell_type": "code",
   "execution_count": 5,
   "metadata": {
    "collapsed": true
   },
   "outputs": [],
   "source": [
    "a = 0\n",
    "c = a = 0\n",
    "a += 7 # a = a + 7 的缩写\n",
    "\n",
    "#所有的数学运算符都有缩写形式 -= ×= /= //= %= **="
   ]
  },
  {
   "cell_type": "markdown",
   "metadata": {},
   "source": [
    "##逻辑运算符\n",
    "- 对布尔值进行计算的符号\n",
    "- and or not \n",
    "- python没有逻辑运算的异或运算\n",
    "- 运算规则\n",
    "    - and看做乘法 or看做加法\n",
    "    - True看做是1 False看做是0\n",
    "    - 结果是0则为false，否则是True\n",
    "- 逻辑运算的短路问题"
   ]
  },
  {
   "cell_type": "code",
   "execution_count": 15,
   "metadata": {},
   "outputs": [
    {
     "name": "stdout",
     "output_type": "stream",
     "text": [
      "True\n",
      "True\n",
      "6\n",
      "6\n"
     ]
    }
   ],
   "source": [
    "a = True\n",
    "b = False\n",
    "c = True\n",
    "# d = 1 * 0 + 1\n",
    "d = a and b or c\n",
    "print(d)\n",
    "\n",
    "#短路问题\n",
    "d = True or XXXXXXXXXXX\n",
    "print(d)\n",
    "\n",
    "b = 9\n",
    "a = b = 9 and 6\n",
    "\n",
    "print(a)\n",
    "print(b)"
   ]
  },
  {
   "cell_type": "markdown",
   "metadata": {},
   "source": [
    "###\n",
    "成员运算符\n",
    "用来检查某一变量是否是另一变量的成员\n",
    "- in, not in"
   ]
  },
  {
   "cell_type": "code",
   "execution_count": 18,
   "metadata": {
    "scrolled": true
   },
   "outputs": [
    {
     "name": "stdout",
     "output_type": "stream",
     "text": [
      "False\n"
     ]
    }
   ],
   "source": [
    "l = [1,2,3,4,5]\n",
    "a = 7 \n",
    "b = a in l\n",
    "print(b)"
   ]
  },
  {
   "cell_type": "code",
   "execution_count": 21,
   "metadata": {},
   "outputs": [
    {
     "name": "stdout",
     "output_type": "stream",
     "text": [
      "True\n",
      "False\n"
     ]
    }
   ],
   "source": [
    "####身份运算符\n",
    "#-用来检测两个变量是不是同一个变量\n",
    "#-is: var1 is var2\n",
    "#-is not:两个变量不是同一个变量\n",
    "\n",
    "a = 9\n",
    "b = 9\n",
    "print(a is b)\n",
    "\n",
    "a = 'I love wangxiaojing'\n",
    "b = 'I love wangxiaojing'\n",
    "print(a is b)"
   ]
  },
  {
   "cell_type": "code",
   "execution_count": null,
   "metadata": {
    "collapsed": true
   },
   "outputs": [],
   "source": [
    "###运算符的优先级\n",
    "#括号是最高优先级"
   ]
  }
 ],
 "metadata": {
  "kernelspec": {
   "display_name": "Python 3",
   "language": "python",
   "name": "python3"
  },
  "language_info": {
   "codemirror_mode": {
    "name": "ipython",
    "version": 3
   },
   "file_extension": ".py",
   "mimetype": "text/x-python",
   "name": "python",
   "nbconvert_exporter": "python",
   "pygments_lexer": "ipython3",
   "version": "3.6.3"
  }
 },
 "nbformat": 4,
 "nbformat_minor": 2
}
