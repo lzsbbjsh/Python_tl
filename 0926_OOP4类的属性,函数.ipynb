{
 "cells": [
  {
   "cell_type": "code",
   "execution_count": 4,
   "metadata": {},
   "outputs": [
    {
     "name": "stdout",
     "output_type": "stream",
     "text": [
      "Hai, my name is LIU YING\n",
      "Hai, my name is MICHI STANGELE\n"
     ]
    }
   ],
   "source": [
    "#属性案例\n",
    "#创建Student类,描述学生类\n",
    "#学生具有Student,name属性\n",
    "#但name格式并不统一\n",
    "#可以增加一个函数,然后自动调用,\n",
    "class Student():\n",
    "    def __init__(self,name,age):\n",
    "        self.name = name\n",
    "        self.age = age\n",
    "    #如果不想修改代码\n",
    "        self.setName(name)\n",
    "    \n",
    "    \n",
    "    #介绍下自己\n",
    "    def intro(self):\n",
    "        print(\"Hai, my name is {0}\".format(self.name))\n",
    "        \n",
    "    def setName(self, name):\n",
    "        self.name = name.upper()\n",
    "        \n",
    "s1 = Student(\"LIU YING\", 19)\n",
    "s2 = Student(\"michi stangele\", 24)\n",
    "s1.intro()\n",
    "s2.intro()\n",
    "\n",
    "\n",
    "        "
   ]
  },
  {
   "cell_type": "code",
   "execution_count": 16,
   "metadata": {},
   "outputs": [
    {
     "name": "stdout",
     "output_type": "stream",
     "text": [
      "TULINGTULING\n"
     ]
    }
   ],
   "source": [
    "#property案例\n",
    "#定义一个person类,具有name,age属性\n",
    "#对于任意输入的姓名,用大写保存\n",
    "#对于年龄,用统一整数保存\n",
    "# X = property(fget, fset, fdel, doc)\n",
    "class Person():\n",
    "    '''\n",
    "    这是一个人，一个高尚的人，一个脱离了低级趣味的人\n",
    "    他还他妈的有属性\n",
    "    '''\n",
    "    def fget(self):\n",
    "        return self._name * 2\n",
    "    def fset(self,name):\n",
    "        #大写保存\n",
    "        self._name = name.upper()\n",
    "    def fdel(self):\n",
    "        self._name = \"NoName\"\n",
    "\n",
    "    name = property(fget, fset, fdel,\"对那么进行操作\")\n",
    "    \n",
    "p = Person()\n",
    "p.name = \"TuLing\"\n",
    "print(p.name)\n",
    "# 作业：\n",
    "# 1. 在用户输入年龄的时候，可以输入整数，小数，浮点数\n",
    "# 2. 但内部为了数据清洁，我们统一需要保存整数，直接舍去小数点"
   ]
  },
  {
   "cell_type": "code",
   "execution_count": 17,
   "metadata": {},
   "outputs": [
    {
     "name": "stdout",
     "output_type": "stream",
     "text": [
      "{'__module__': '__main__', '__doc__': '\\n    这是一个人，一个高尚的人，一个脱离了低级趣味的人\\n    他还他妈的有属性\\n    ', 'fget': <function Person.fget at 0x7f55884a7e18>, 'fset': <function Person.fset at 0x7f55884a7598>, 'fdel': <function Person.fdel at 0x7f55884a7730>, 'name': <property object at 0x7f5588d32098>, '__dict__': <attribute '__dict__' of 'Person' objects>, '__weakref__': <attribute '__weakref__' of 'Person' objects>}\n",
      "\n",
      "    这是一个人，一个高尚的人，一个脱离了低级趣味的人\n",
      "    他还他妈的有属性\n",
      "    \n",
      "Person\n",
      "(<class 'object'>,)\n"
     ]
    }
   ],
   "source": [
    "# 类的内置属性举例\n",
    "print(Person.__dict__)\n",
    "print(Person.__doc__)\n",
    "print(Person.__name__)\n",
    "print(Person.__bases__)"
   ]
  },
  {
   "cell_type": "code",
   "execution_count": 18,
   "metadata": {},
   "outputs": [
    {
     "name": "stdout",
     "output_type": "stream",
     "text": [
      "(<class '__main__.Person'>, <class 'object'>)\n"
     ]
    }
   ],
   "source": [
    "print(Person.__mro__)"
   ]
  },
  {
   "cell_type": "code",
   "execution_count": 21,
   "metadata": {},
   "outputs": [
    {
     "name": "stdout",
     "output_type": "stream",
     "text": [
      "我擦类,被看见了\n"
     ]
    }
   ],
   "source": [
    "# __init__\n",
    "class A():\n",
    "    def __init__(self, name = 0):\n",
    "        print(\"我擦类,被看见了\")\n",
    "        \n",
    "a = A()\n"
   ]
  },
  {
   "cell_type": "code",
   "execution_count": 24,
   "metadata": {},
   "outputs": [
    {
     "name": "stdout",
     "output_type": "stream",
     "text": [
      "我擦类,被看见了\n",
      "你nb,又被抓到了\n"
     ]
    }
   ],
   "source": [
    "# __call__\n",
    "class A():\n",
    "    def __init__(self, name = 0):\n",
    "        print(\"我擦类,被看见了\")\n",
    "    def __call__(self):\n",
    "        print(\"你nb,又被抓到了\")\n",
    "a = A()\n",
    "a()"
   ]
  },
  {
   "cell_type": "code",
   "execution_count": 26,
   "metadata": {},
   "outputs": [
    {
     "name": "stdout",
     "output_type": "stream",
     "text": [
      "我擦类,被看见了\n",
      "图灵学院的例子\n"
     ]
    }
   ],
   "source": [
    "# __str__,__repr__\n",
    "class A():\n",
    "    def __init__(self, name = 0):\n",
    "        print(\"我擦类,被看见了\")\n",
    "    def __call__(self):\n",
    "        print(\"你nb,又被抓到了\")\n",
    "    def __str__(self):\n",
    "        return \"图灵学院的例子\"\n",
    "a = A()\n",
    "print(a)"
   ]
  },
  {
   "cell_type": "code",
   "execution_count": 30,
   "metadata": {},
   "outputs": [
    {
     "name": "stdout",
     "output_type": "stream",
     "text": [
      "NoName\n",
      "没找到\n",
      "addr\n",
      "None\n"
     ]
    }
   ],
   "source": [
    "#__getattr__\n",
    "class A():\n",
    "    name,age = \"NoName\", 18\n",
    "    def __getattr__(self, name):\n",
    "        print(\"没找到\")\n",
    "        print(name)\n",
    "\n",
    "a = A()\n",
    "print(a.name)\n",
    "print(a.addr)\n",
    "# 作业,为什么打印None"
   ]
  },
  {
   "cell_type": "code",
   "execution_count": 40,
   "metadata": {},
   "outputs": [
    {
     "name": "stdout",
     "output_type": "stream",
     "text": [
      "{}\n",
      "设置属性: age\n",
      "设置属性: jisdfjaosd\n"
     ]
    }
   ],
   "source": [
    "#__setattr__\n",
    "\n",
    "class Person():\n",
    "    def __init__(self):\n",
    "        pass\n",
    "    def __setattr__(self, name, value):\n",
    "        print(\"设置属性: {0}\".format(name))\n",
    "        #self.name = value\n",
    "        #循环赋值\n",
    "        #super().__setattr__(name,value)\n",
    "p = Person()\n",
    "print(p.__dict__)\n",
    "p.age = 18\n",
    "p.jisdfjaosd = 100"
   ]
  },
  {
   "cell_type": "code",
   "execution_count": 44,
   "metadata": {},
   "outputs": [
    {
     "name": "stdout",
     "output_type": "stream",
     "text": [
      "haha, one 会比 two 大吗\n",
      "False\n"
     ]
    }
   ],
   "source": [
    "#__gt__\n",
    "\n",
    "class Student():\n",
    "    def __init__(self, name):\n",
    "        self._name = name\n",
    "        \n",
    "    def __gt__(self, obj):\n",
    "        print(\"haha, {0} 会比 {1} 大吗\".format(self._name, obj._name))\n",
    "        return self._name > obj._name\n",
    "    \n",
    "#作业:\n",
    "#字符串的比较是什么规则, 把输出改成haha, one 会比 two 大吗\n",
    "stu1 = Student(\"one\")\n",
    "stu2 = Student(\"two\")\n",
    "print(stu1 > stu2)"
   ]
  },
  {
   "cell_type": "code",
   "execution_count": 50,
   "metadata": {},
   "outputs": [
    {
     "name": "stdout",
     "output_type": "stream",
     "text": [
      "<__main__.Person object at 0x7f55884874e0>\n",
      "Eating....\n",
      "<class '__main__.Person'>\n",
      "Playing .....\n",
      "Saying ....\n"
     ]
    }
   ],
   "source": [
    "# 三种方法的案例\n",
    "class Person():\n",
    "    def eat(self):\n",
    "        print(self)\n",
    "        print(\"Eating....\")\n",
    "        \n",
    "    #类方法\n",
    "    #类方法第一个参数,一般命名为cls,区别于self\n",
    "    @classmethod\n",
    "    def play(cls):\n",
    "        print(cls)\n",
    "        print(\"Playing .....\")\n",
    "        \n",
    "    @staticmethod\n",
    "    def say():\n",
    "        print(\"Saying ....\")\n",
    "\n",
    "yueyue = Person()\n",
    "yueyue.eat()\n",
    "Person().play()\n",
    "\n",
    "yueyue.say()\n",
    "\n",
    "#作业,自行查找三种方法使用的区别"
   ]
  }
 ],
 "metadata": {
  "kernelspec": {
   "display_name": "Python 3",
   "language": "python",
   "name": "python3"
  },
  "language_info": {
   "codemirror_mode": {
    "name": "ipython",
    "version": 3
   },
   "file_extension": ".py",
   "mimetype": "text/x-python",
   "name": "python",
   "nbconvert_exporter": "python",
   "pygments_lexer": "ipython3",
   "version": "3.6.3"
  }
 },
 "nbformat": 4,
 "nbformat_minor": 2
}
